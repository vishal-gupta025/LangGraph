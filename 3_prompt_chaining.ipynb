{
 "cells": [
  {
   "cell_type": "code",
   "execution_count": 1,
   "id": "fae39b9e",
   "metadata": {},
   "outputs": [],
   "source": [
    "from langgraph.graph import StateGraph, START, END\n",
    "from langchain_openai import ChatOpenAI\n",
    "from typing import TypedDict\n",
    "from dotenv import load_dotenv"
   ]
  },
  {
   "cell_type": "code",
   "execution_count": 2,
   "id": "e7754774",
   "metadata": {},
   "outputs": [],
   "source": [
    "load_dotenv()\n",
    "\n",
    "model = ChatOpenAI(\n",
    "    model = \"gpt-3.5-turbo\",\n",
    "    max_completion_tokens=100\n",
    ")"
   ]
  },
  {
   "cell_type": "code",
   "execution_count": 3,
   "id": "5c8151fa",
   "metadata": {},
   "outputs": [],
   "source": [
    "class BlogState(TypedDict) :\n",
    "    title: str\n",
    "    outline: str\n",
    "    content: str"
   ]
  },
  {
   "cell_type": "code",
   "execution_count": 4,
   "id": "2eb5e8ef",
   "metadata": {},
   "outputs": [],
   "source": [
    "\n",
    "def create_outline(state: BlogState) -> BlogState:\n",
    "\n",
    "    # fetch title\n",
    "    title = state['title']\n",
    "\n",
    "    # call llm gen outline\n",
    "    prompt = f'Generate a detailed outline for a blog on the topic - {title}'\n",
    "    outline = model.invoke(prompt).content\n",
    "\n",
    "    # update state\n",
    "    state['outline'] = outline\n",
    "\n",
    "    return state"
   ]
  },
  {
   "cell_type": "code",
   "execution_count": 5,
   "id": "1413ce47",
   "metadata": {},
   "outputs": [],
   "source": [
    "def create_blog(state: BlogState) -> BlogState:\n",
    "\n",
    "    title = state['title']\n",
    "    outline = state['outline']\n",
    "\n",
    "    prompt = f'Write a detailed blog on the title - {title} using the follwing outline \\n {outline}'\n",
    "\n",
    "    content = model.invoke(prompt).content\n",
    "\n",
    "    state['content'] = content\n",
    "\n",
    "    return state"
   ]
  },
  {
   "cell_type": "code",
   "execution_count": 6,
   "id": "8e43c911",
   "metadata": {},
   "outputs": [],
   "source": [
    "\n",
    "graph = StateGraph(BlogState)\n",
    "\n",
    "# nodes\n",
    "graph.add_node('create_outline', create_outline)\n",
    "graph.add_node('create_blog', create_blog)\n",
    "\n",
    "# edges\n",
    "graph.add_edge(START, 'create_outline')\n",
    "graph.add_edge('create_outline', 'create_blog')\n",
    "graph.add_edge('create_blog', END)\n",
    "\n",
    "workflow = graph.compile()"
   ]
  },
  {
   "cell_type": "code",
   "execution_count": 7,
   "id": "41a3baa6",
   "metadata": {},
   "outputs": [
    {
     "name": "stdout",
     "output_type": "stream",
     "text": [
      "{'title': 'Rise of AI in India', 'outline': 'I. Introduction\\n    A. Explanation of AI (Artificial Intelligence) and its importance\\n    B. Overview of the rise of AI globally\\n    C. Introduction to the rise of AI in India\\n\\nII. History of AI in India\\n    A. Early developments in AI technology in India\\n    B. Government initiatives to promote AI research and development\\n    C. Growth of AI startups and companies in India\\n\\nIII. Applications of AI in India\\n    A. AI in healthcare\\n', 'content': '   B. AI in agriculture\\n   C. AI in education\\n   D. AI in finance\\n   E. AI in customer service\\n\\nIV. Challenges faced by AI in India\\n    A. Lack of skilled professionals\\n    B. Data privacy and security concerns\\n    C. Ethical considerations\\n    D. Infrastructure limitations\\n\\nV. Future prospects of AI in India\\n    A. Potential for economic growth and innovation\\n    B. Role of AI in addressing societal challenges\\n    C'}\n"
     ]
    }
   ],
   "source": [
    "intial_state = {'title': 'Rise of AI in India'}\n",
    "\n",
    "final_state = workflow.invoke(intial_state)\n",
    "\n",
    "print(final_state)"
   ]
  },
  {
   "cell_type": "code",
   "execution_count": 8,
   "id": "6fb498b5",
   "metadata": {},
   "outputs": [
    {
     "name": "stdout",
     "output_type": "stream",
     "text": [
      "I. Introduction\n",
      "    A. Explanation of AI (Artificial Intelligence) and its importance\n",
      "    B. Overview of the rise of AI globally\n",
      "    C. Introduction to the rise of AI in India\n",
      "\n",
      "II. History of AI in India\n",
      "    A. Early developments in AI technology in India\n",
      "    B. Government initiatives to promote AI research and development\n",
      "    C. Growth of AI startups and companies in India\n",
      "\n",
      "III. Applications of AI in India\n",
      "    A. AI in healthcare\n",
      "\n"
     ]
    }
   ],
   "source": [
    "print(final_state['outline'])"
   ]
  },
  {
   "cell_type": "code",
   "execution_count": 9,
   "id": "9e11926e",
   "metadata": {},
   "outputs": [
    {
     "name": "stdout",
     "output_type": "stream",
     "text": [
      "   B. AI in agriculture\n",
      "   C. AI in education\n",
      "   D. AI in finance\n",
      "   E. AI in customer service\n",
      "\n",
      "IV. Challenges faced by AI in India\n",
      "    A. Lack of skilled professionals\n",
      "    B. Data privacy and security concerns\n",
      "    C. Ethical considerations\n",
      "    D. Infrastructure limitations\n",
      "\n",
      "V. Future prospects of AI in India\n",
      "    A. Potential for economic growth and innovation\n",
      "    B. Role of AI in addressing societal challenges\n",
      "    C\n"
     ]
    }
   ],
   "source": [
    "print(final_state['content'])"
   ]
  },
  {
   "cell_type": "code",
   "execution_count": null,
   "id": "8e77850a",
   "metadata": {},
   "outputs": [],
   "source": []
  }
 ],
 "metadata": {
  "kernelspec": {
   "display_name": "venv",
   "language": "python",
   "name": "python3"
  },
  "language_info": {
   "codemirror_mode": {
    "name": "ipython",
    "version": 3
   },
   "file_extension": ".py",
   "mimetype": "text/x-python",
   "name": "python",
   "nbconvert_exporter": "python",
   "pygments_lexer": "ipython3",
   "version": "3.11.9"
  }
 },
 "nbformat": 4,
 "nbformat_minor": 5
}
