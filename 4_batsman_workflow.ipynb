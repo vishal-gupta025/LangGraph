{
 "cells": [
  {
   "cell_type": "code",
   "execution_count": 40,
   "id": "3d0fe39e",
   "metadata": {},
   "outputs": [],
   "source": [
    "from langgraph.graph import StateGraph, START, END\n",
    "from typing import TypedDict\n"
   ]
  },
  {
   "cell_type": "code",
   "execution_count": 15,
   "id": "71c64423",
   "metadata": {},
   "outputs": [],
   "source": [
    "class BatsmanState(TypedDict) :\n",
    "    runs: int\n",
    "    balls: int\n",
    "    fours: int\n",
    "    sixes: int\n",
    "\n",
    "    sr: float\n",
    "    bpb: float\n",
    "    boundary_percentage: float\n",
    "    summary: str"
   ]
  },
  {
   "cell_type": "code",
   "execution_count": 36,
   "id": "3f2a8a03",
   "metadata": {},
   "outputs": [],
   "source": [
    "def calculate_sr(state: BatsmanState) -> BatsmanState :\n",
    "    sr = (state['runs']/state['balls'])*100\n",
    "    return {'sr': sr}"
   ]
  },
  {
   "cell_type": "code",
   "execution_count": 27,
   "id": "b2f080a3",
   "metadata": {},
   "outputs": [],
   "source": [
    "def calculate_bpb(state: BatsmanState) -> BatsmanState :\n",
    "    bpb = state['balls']/(state['fours'] + state['sixes'])\n",
    "    return {'bpb': bpb}"
   ]
  },
  {
   "cell_type": "code",
   "execution_count": 28,
   "id": "1cb3252f",
   "metadata": {},
   "outputs": [],
   "source": [
    "def calculate_boundary_percentage(state: BatsmanState) -> BatsmanState :\n",
    "    boundary_percentage = ((state['fours']*4 + state['sixes']*6)/state['runs'])*100\n",
    "    return {'boundary_percentage': boundary_percentage}"
   ]
  },
  {
   "cell_type": "code",
   "execution_count": 34,
   "id": "641dab97",
   "metadata": {},
   "outputs": [],
   "source": [
    "def summary(state: BatsmanState) -> BatsmanState :\n",
    "    summary = f\"\"\" \n",
    "Strike Rate - {state['sr']} \\n\n",
    "Balls per Boundary - {state['bpb']} \\n\n",
    "Boundary Percentage - {state['boundary_percentage']}\n",
    "\"\"\"\n",
    "    return {'summary': summary}"
   ]
  },
  {
   "cell_type": "code",
   "execution_count": 37,
   "id": "e9a6aa4f",
   "metadata": {},
   "outputs": [],
   "source": [
    "graph = StateGraph(BatsmanState) \n",
    "\n",
    "graph.add_node('calculate_sr', calculate_sr)\n",
    "graph.add_node('calculate_bpb', calculate_bpb)\n",
    "graph.add_node('calculate_boundary_percentage', calculate_boundary_percentage)\n",
    "graph.add_node('summary', summary)\n",
    "\n",
    "graph.add_edge(START, 'calculate_sr')\n",
    "graph.add_edge(START , 'calculate_bpb')\n",
    "graph.add_edge(START, 'calculate_boundary_percentage')\n",
    "\n",
    "graph.add_edge('calculate_sr' , 'summary')\n",
    "graph.add_edge('calculate_bpb' , 'summary')\n",
    "graph.add_edge('calculate_boundary_percentage' , 'summary')\n",
    "\n",
    "graph.add_edge('summary', END)\n",
    "\n",
    "workflow = graph.compile()\n",
    "\n",
    "\n"
   ]
  },
  {
   "cell_type": "code",
   "execution_count": 38,
   "id": "25d102d4",
   "metadata": {},
   "outputs": [
    {
     "data": {
      "image/png": "[encoded data removed]",
      "text/plain": [
       "<langgraph.graph.state.CompiledStateGraph object at 0x00000199CBAFE090>"
      ]
     },
     "execution_count": 38,
     "metadata": {},
     "output_type": "execute_result"
    }
   ],
   "source": [
    "workflow"
   ]
  },
  {
   "cell_type": "code",
   "execution_count": 39,
   "id": "277600d8",
   "metadata": {},
   "outputs": [
    {
     "name": "stdout",
     "output_type": "stream",
     "text": [
      "{'runs': 60, 'balls': 50, 'fours': 5, 'sixes': 3, 'sr': 120.0, 'bpb': 6.25, 'boundary_percentage': 63.33333333333333, 'summary': ' \\nStrike Rate - 120.0 \\n\\nBalls per Boundary - 6.25 \\n\\nBoundary Percentage - 63.33333333333333\\n'}\n"
     ]
    }
   ],
   "source": [
    "initial_state = {'runs': 60 , 'balls': 50 , 'fours': 5 , 'sixes': 3}\n",
    "final_state = workflow.invoke(initial_state)\n",
    "print(final_state)"
   ]
  },
  {
   "cell_type": "code",
   "execution_count": null,
   "id": "82b30afc",
   "metadata": {},
   "outputs": [],
   "source": []
  }
 ],
 "metadata": {
  "kernelspec": {
   "display_name": "venv",
   "language": "python",
   "name": "python3"
  },
  "language_info": {
   "codemirror_mode": {
    "name": "ipython",
    "version": 3
   },
   "file_extension": ".py",
   "mimetype": "text/x-python",
   "name": "python",
   "nbconvert_exporter": "python",
   "pygments_lexer": "ipython3",
   "version": "3.11.9"
  }
 },
 "nbformat": 4,
 "nbformat_minor": 5
}
